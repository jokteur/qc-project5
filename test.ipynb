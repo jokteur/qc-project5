{
 "cells": [
  {
   "cell_type": "code",
   "execution_count": null,
   "metadata": {},
   "outputs": [],
   "source": [
    "import numpy as np\n",
    "import qiskit\n",
    "from qiskit import QuantumCircuit\n",
    "from qiskit.circuit.library import YGate\n",
    "from qiskit.quantum_info import Statevector\n",
    "\n",
    "path = \"GRCS/inst/rectangular/cz_v2/4x4/inst_4x4_10_0.txt\"\n",
    "\n",
    "with open(path, 'r') as file:\n",
    "    nqubits = int(file.readline())\n",
    "\n",
    "    qc = QuantumCircuit(nqubits)\n",
    "    for line in file:\n",
    "        cycle, gate, *qubits = line.split()\n",
    "        target = nqubits - 1 - int(qubits[0])\n",
    "        if len(qubits) > 1:\n",
    "            control = nqubits - 1 - int(qubits[1])\n",
    "        if gate == 'h':\n",
    "            qc.h(target)\n",
    "        elif gate == 'x':\n",
    "            qc.x(target)\n",
    "        elif gate == 'y':\n",
    "            qc.y(target)\n",
    "        elif gate == 'z':\n",
    "            qc.z(target)\n",
    "        elif gate == 't':\n",
    "            qc.t(target)\n",
    "        elif gate == \"x_1_2\":\n",
    "            qc.sx(target)\n",
    "        elif gate == \"y_1_2\":\n",
    "            qc.append(YGate().power(1/2), [target])\n",
    "        elif gate == 'cz':\n",
    "            qc.cz(control, target)\n",
    "        elif gate == 'cx':\n",
    "            qc.cx(control, target)\n",
    "     \n",
    "# qc.measure_all()\n",
    "qc.draw(output='mpl', reverse_bits=True)\n",
    "# Circuits are inverse on qiskit"
   ]
  },
  {
   "cell_type": "code",
   "execution_count": null,
   "metadata": {},
   "outputs": [],
   "source": [
    "from qiskit_aer import QasmSimulator, AerSimulator, StatevectorSimulator\n",
    "from qiskit import transpile\n",
    "from qiskit.visualization import plot_histogram\n",
    "import time \n",
    "\n",
    "simulator = QasmSimulator()\n",
    "simulator = AerSimulator(method=\"statevector\")\n",
    "# simulator = StatevectorSimulator()\n",
    "circ = transpile(qc, simulator)\n",
    "start = time.time()\n",
    "result = simulator.run(circ, shots=1e6).result()\n",
    "end = time.time()\n",
    "print(\"Time taken: \", end-start)\n",
    "\n",
    "counts = result.get_counts()\n",
    "counts_ordered = sorted(counts.items(), key=lambda x: x[1], reverse=True)\n",
    "print(counts_ordered)\n",
    "# plot_histogram(result.get_counts(), figsize=(10, 5))"
   ]
  },
  {
   "cell_type": "code",
   "execution_count": null,
   "metadata": {},
   "outputs": [],
   "source": [
    "import time \n",
    "start = time.time()\n",
    "sv = Statevector.from_instruction(qc)\n",
    "bits = sv.probabilities_dict().keys()\n",
    "print(time.time() - start)\n",
    "l = list(zip(bits, sv.data))\n",
    "for i in l[:20]:\n",
    "    print(i)\n",
    "    \n",
    "\n",
    "print(np.sum(np.abs(sv.data**2)))"
   ]
  },
  {
   "cell_type": "markdown",
   "metadata": {},
   "source": [
    "## Other"
   ]
  },
  {
   "cell_type": "code",
   "execution_count": null,
   "metadata": {},
   "outputs": [],
   "source": [
    "qc1 = QuantumCircuit(4)\n",
    "for i in range(4):\n",
    "    qc1.h(i)\n",
    "\n",
    "qc1.t(1)\n",
    "\n",
    "# qc1.append(YGate().power(1/2), [1])\n",
    "qc1.draw(output='mpl', reverse_bits=True)"
   ]
  },
  {
   "cell_type": "code",
   "execution_count": null,
   "metadata": {},
   "outputs": [],
   "source": [
    "\n",
    "sv = Statevector.from_instruction(qc1)\n",
    "bits = sv.probabilities_dict().keys()\n",
    "l = list(zip(bits, sv.data))\n",
    "for i in l[:20]:\n",
    "    print(i)"
   ]
  },
  {
   "cell_type": "code",
   "execution_count": null,
   "metadata": {},
   "outputs": [],
   "source": [
    "target = 0\n",
    "nqubits = 3\n",
    "offset = 2** (nqubits - target - 1)\n",
    "\n",
    "for i in range(2**(nqubits-1)):\n",
    "    print(i, 2 * i - (i % offset))"
   ]
  }
 ],
 "metadata": {
  "kernelspec": {
   "display_name": "base",
   "language": "python",
   "name": "python3"
  },
  "language_info": {
   "codemirror_mode": {
    "name": "ipython",
    "version": 3
   },
   "file_extension": ".py",
   "mimetype": "text/x-python",
   "name": "python",
   "nbconvert_exporter": "python",
   "pygments_lexer": "ipython3",
   "version": "3.9.12"
  }
 },
 "nbformat": 4,
 "nbformat_minor": 2
}
