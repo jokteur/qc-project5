{
 "cells": [
  {
   "cell_type": "code",
   "execution_count": 1,
   "metadata": {},
   "outputs": [
    {
     "data": {
      "image/png": "[encoded data removed]",
      "text/plain": [
       "<Figure size 287.496x367.889 with 1 Axes>"
      ]
     },
     "execution_count": 1,
     "metadata": {},
     "output_type": "execute_result"
    }
   ],
   "source": [
    "import numpy as np\n",
    "import qiskit\n",
    "from qiskit import QuantumCircuit\n",
    "from qiskit.quantum_info import Statevector\n",
    "\n",
    "qc = QuantumCircuit(4)\n",
    "qc.h(0)\n",
    "qc.h(1)\n",
    "qc.h(2)\n",
    "qc.h(3)\n",
    "\n",
    "qc.x(2)\n",
    "qc.draw(output='mpl', reverse_bits=True)\n",
    "\n",
    "# Circuits are inverse on qiskit"
   ]
  },
  {
   "cell_type": "code",
   "execution_count": 12,
   "metadata": {},
   "outputs": [
    {
     "name": "stdout",
     "output_type": "stream",
     "text": [
      "('0000', (0.24999999999999992+0j))\n",
      "('0001', (0.24999999999999992+0j))\n",
      "('0010', (0.24999999999999992+0j))\n",
      "('0011', (0.24999999999999992+0j))\n",
      "('0100', (-0.24999999999999992+0j))\n",
      "('0101', (-0.24999999999999992+0j))\n",
      "('0110', (-0.24999999999999992+0j))\n",
      "('0111', (-0.24999999999999992+0j))\n",
      "('1000', (0.24999999999999992+0j))\n",
      "('1001', (0.24999999999999992+0j))\n",
      "('1010', (0.24999999999999992+0j))\n",
      "('1011', (0.24999999999999992+0j))\n",
      "('1100', (-0.24999999999999992+0j))\n",
      "('1101', (-0.24999999999999992+0j))\n",
      "('1110', (-0.24999999999999992+0j))\n",
      "('1111', (-0.24999999999999992+0j))\n"
     ]
    }
   ],
   "source": [
    "sv = Statevector.from_instruction(qc)\n",
    "bits = sv.probabilities_dict().keys()\n",
    "l = list(zip(bits, sv.data))\n",
    "for i in l:\n",
    "    print(i)"
   ]
  },
  {
   "cell_type": "code",
   "execution_count": null,
   "metadata": {},
   "outputs": [],
   "source": []
  }
 ],
 "metadata": {
  "kernelspec": {
   "display_name": "base",
   "language": "python",
   "name": "python3"
  },
  "language_info": {
   "codemirror_mode": {
    "name": "ipython",
    "version": 3
   },
   "file_extension": ".py",
   "mimetype": "text/x-python",
   "name": "python",
   "nbconvert_exporter": "python",
   "pygments_lexer": "ipython3",
   "version": "3.9.12"
  }
 },
 "nbformat": 4,
 "nbformat_minor": 2
}
